{
 "cells": [
  {
   "cell_type": "code",
   "execution_count": 1,
   "id": "c23e82e4-da3c-418a-a723-e6c1f6e15b98",
   "metadata": {},
   "outputs": [],
   "source": [
    "import pytz\n",
    "from datetime import datetime"
   ]
  },
  {
   "cell_type": "code",
   "execution_count": 3,
   "id": "7054c693-48ad-40ab-8ac0-94220d5e9016",
   "metadata": {},
   "outputs": [
    {
     "name": "stdout",
     "output_type": "stream",
     "text": [
      "2025-06-13 23:12:45.441597-04:00\n"
     ]
    }
   ],
   "source": [
    "eastern = pytz.timezone('US/Eastern')\n",
    "print(datetime.now(eastern))"
   ]
  }
 ],
 "metadata": {
  "kernelspec": {
   "display_name": "Python 3.11 (Homebrew)",
   "language": "python",
   "name": "python3.11"
  },
  "language_info": {
   "codemirror_mode": {
    "name": "ipython",
    "version": 3
   },
   "file_extension": ".py",
   "mimetype": "text/x-python",
   "name": "python",
   "nbconvert_exporter": "python",
   "pygments_lexer": "ipython3",
   "version": "3.11.11"
  }
 },
 "nbformat": 4,
 "nbformat_minor": 5
}
