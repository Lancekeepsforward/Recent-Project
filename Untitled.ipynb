{
 "cells": [
  {
   "cell_type": "code",
   "execution_count": 10,
   "id": "e46a3b5a-1189-4f39-a734-e1ae6b5d5dc1",
   "metadata": {},
   "outputs": [],
   "source": [
    "from datetime import datetime, timezone, timedelta"
   ]
  },
  {
   "cell_type": "code",
   "execution_count": 3,
   "id": "4232876a-a486-4162-bb8e-3eebf664f3fc",
   "metadata": {},
   "outputs": [
    {
     "name": "stdout",
     "output_type": "stream",
     "text": [
      "2025-06-14 02:50:18.305626+00:00\n"
     ]
    }
   ],
   "source": [
    "print(datetime.now(timezone.utc))"
   ]
  },
  {
   "cell_type": "code",
   "execution_count": 16,
   "id": "72eb56aa-1f20-482d-8d70-9b0b4f523ae6",
   "metadata": {},
   "outputs": [
    {
     "name": "stdout",
     "output_type": "stream",
     "text": [
      "2025-06-13 22:57:32.656274#####2025-06-14 02:57:32.656281+00:00\n"
     ]
    }
   ],
   "source": [
    "print(datetime.utcnow() - timedelta(hours=4), datetime.now(timezone.utc), sep=\"#####\")"
   ]
  }
 ],
 "metadata": {
  "kernelspec": {
   "display_name": "Python 3.11 (Homebrew)",
   "language": "python",
   "name": "python3.11"
  },
  "language_info": {
   "codemirror_mode": {
    "name": "ipython",
    "version": 3
   },
   "file_extension": ".py",
   "mimetype": "text/x-python",
   "name": "python",
   "nbconvert_exporter": "python",
   "pygments_lexer": "ipython3",
   "version": "3.11.11"
  }
 },
 "nbformat": 4,
 "nbformat_minor": 5
}
